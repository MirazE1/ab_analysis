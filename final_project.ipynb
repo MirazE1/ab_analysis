{
 "cells": [
  {
   "metadata": {
    "ExecuteTime": {
     "end_time": "2024-11-11T13:29:55.386207Z",
     "start_time": "2024-11-11T13:29:55.157352Z"
    }
   },
   "cell_type": "code",
   "source": [
    "import pandas as pd\n",
    "import numpy as np\n",
    "\n",
    "from tqdm.auto import tqdm\n",
    "from scipy.stats import norm \n",
    "\n",
    "import seaborn as sns\n",
    "import matplotlib.pyplot as plt"
   ],
   "id": "9e1f3131f23a883e",
   "outputs": [],
   "execution_count": 3
  },
  {
   "metadata": {
    "ExecuteTime": {
     "end_time": "2024-11-11T13:29:55.406361Z",
     "start_time": "2024-11-11T13:29:55.387536Z"
    }
   },
   "cell_type": "code",
   "source": [
    "groups = pd.read_csv('groups.csv', sep=';')\n",
    "groups_add = pd.read_csv('groups_add.csv', sep=',')\n",
    "active_studs = pd.read_csv('active_studs.csv', sep=';')\n",
    "checks = pd.read_csv('checks.csv', sep=';')"
   ],
   "id": "74bf1798955da662",
   "outputs": [],
   "execution_count": 4
  },
  {
   "metadata": {
    "ExecuteTime": {
     "end_time": "2024-11-11T13:29:55.426362Z",
     "start_time": "2024-11-11T13:29:55.407366Z"
    }
   },
   "cell_type": "code",
   "source": [
    "print(groups.head(), '\\n')\n",
    "print(groups.info(), '\\n')\n",
    "print('Уникальных ID в датасете:', groups.id.nunique())"
   ],
   "id": "3f72fc0c6d2416de",
   "outputs": [
    {
     "name": "stdout",
     "output_type": "stream",
     "text": [
      "     id grp\n",
      "0  1489   B\n",
      "1  1627   A\n",
      "2  1768   B\n",
      "3  1783   B\n",
      "4  1794   A \n",
      "\n",
      "<class 'pandas.core.frame.DataFrame'>\n",
      "RangeIndex: 74484 entries, 0 to 74483\n",
      "Data columns (total 2 columns):\n",
      " #   Column  Non-Null Count  Dtype \n",
      "---  ------  --------------  ----- \n",
      " 0   id      74484 non-null  int64 \n",
      " 1   grp     74484 non-null  object\n",
      "dtypes: int64(1), object(1)\n",
      "memory usage: 1.1+ MB\n",
      "None \n",
      "\n",
      "Уникальных ID в датасете: 74484\n"
     ]
    }
   ],
   "execution_count": 5
  },
  {
   "metadata": {
    "ExecuteTime": {
     "end_time": "2024-11-11T13:29:55.436122Z",
     "start_time": "2024-11-11T13:29:55.427387Z"
    }
   },
   "cell_type": "code",
   "source": [
    "print(groups_add.head(),                              '\\n')\n",
    "print(groups_add.info(),                              '\\n')\n",
    "print('Уникальных ID в датасете:', groups_add.id.nunique())"
   ],
   "id": "5e3322cb63520623",
   "outputs": [
    {
     "name": "stdout",
     "output_type": "stream",
     "text": [
      "        id grp\n",
      "0  5694584   B\n",
      "1  5694830   B\n",
      "2  5695057   B\n",
      "3  5698872   B\n",
      "4  5699067   B \n",
      "\n",
      "<class 'pandas.core.frame.DataFrame'>\n",
      "RangeIndex: 92 entries, 0 to 91\n",
      "Data columns (total 2 columns):\n",
      " #   Column  Non-Null Count  Dtype \n",
      "---  ------  --------------  ----- \n",
      " 0   id      92 non-null     int64 \n",
      " 1   grp     92 non-null     object\n",
      "dtypes: int64(1), object(1)\n",
      "memory usage: 1.6+ KB\n",
      "None \n",
      "\n",
      "Уникальных ID в датасете: 92\n"
     ]
    }
   ],
   "execution_count": 6
  },
  {
   "metadata": {
    "ExecuteTime": {
     "end_time": "2024-11-11T13:29:55.446502Z",
     "start_time": "2024-11-11T13:29:55.437170Z"
    }
   },
   "cell_type": "code",
   "source": [
    "print(active_studs.head(),                                      '\\n')\n",
    "print(active_studs.info(),                                      '\\n')\n",
    "print('Уникальных ID в датасете:', active_studs.student_id.nunique())"
   ],
   "id": "a9acb46b4b85e223",
   "outputs": [
    {
     "name": "stdout",
     "output_type": "stream",
     "text": [
      "   student_id\n",
      "0      581585\n",
      "1     5723133\n",
      "2     3276743\n",
      "3     4238589\n",
      "4     4475369 \n",
      "\n",
      "<class 'pandas.core.frame.DataFrame'>\n",
      "RangeIndex: 8341 entries, 0 to 8340\n",
      "Data columns (total 1 columns):\n",
      " #   Column      Non-Null Count  Dtype\n",
      "---  ------      --------------  -----\n",
      " 0   student_id  8341 non-null   int64\n",
      "dtypes: int64(1)\n",
      "memory usage: 65.3 KB\n",
      "None \n",
      "\n",
      "Уникальных ID в датасете: 8341\n"
     ]
    }
   ],
   "execution_count": 7
  },
  {
   "metadata": {
    "ExecuteTime": {
     "end_time": "2024-11-11T13:29:55.456269Z",
     "start_time": "2024-11-11T13:29:55.447049Z"
    }
   },
   "cell_type": "code",
   "source": [
    "print('Уникальных ID в датасете:', active_studs.student_id.nunique())\n",
    "print(checks.head(), '\\n')\n",
    "print(checks.info(), '\\n')\n",
    "print('Уникальных ID в датасете:', checks.student_id.nunique())"
   ],
   "id": "c224ea53db990d46",
   "outputs": [
    {
     "name": "stdout",
     "output_type": "stream",
     "text": [
      "Уникальных ID в датасете: 8341\n",
      "   student_id    rev\n",
      "0        1627  990.0\n",
      "1        3185  690.0\n",
      "2       25973  690.0\n",
      "3       26280  690.0\n",
      "4      100300  990.0 \n",
      "\n",
      "<class 'pandas.core.frame.DataFrame'>\n",
      "RangeIndex: 541 entries, 0 to 540\n",
      "Data columns (total 2 columns):\n",
      " #   Column      Non-Null Count  Dtype  \n",
      "---  ------      --------------  -----  \n",
      " 0   student_id  541 non-null    int64  \n",
      " 1   rev         541 non-null    float64\n",
      "dtypes: float64(1), int64(1)\n",
      "memory usage: 8.6 KB\n",
      "None \n",
      "\n",
      "Уникальных ID в датасете: 541\n"
     ]
    }
   ],
   "execution_count": 8
  },
  {
   "metadata": {},
   "cell_type": "markdown",
   "source": "groups_add",
   "id": "d8ce669e34d98300"
  },
  {
   "metadata": {
    "ExecuteTime": {
     "end_time": "2024-11-11T13:29:55.466147Z",
     "start_time": "2024-11-11T13:29:55.457296Z"
    }
   },
   "cell_type": "code",
   "source": [
    "print('Количество учтенных ID в active_studs:', groups_add.query('id in @active_studs.student_id').shape[0], \n",
    "      '\\nКоличество учтенных ID в checks:',     groups_add.query('id in @checks.student_id').shape[0])"
   ],
   "id": "b2e5dd81036a7914",
   "outputs": [
    {
     "name": "stdout",
     "output_type": "stream",
     "text": [
      "Количество учтенных ID в active_studs: 13 \n",
      "Количество учтенных ID в checks: 1\n"
     ]
    }
   ],
   "execution_count": 9
  },
  {
   "metadata": {},
   "cell_type": "markdown",
   "source": "Соединим датафрейм `groups` c датафреймом `groups_add`, т.к. второй является дополнением первого:",
   "id": "75897ca651f34289"
  },
  {
   "metadata": {
    "ExecuteTime": {
     "end_time": "2024-11-11T13:29:55.476347Z",
     "start_time": "2024-11-11T13:29:55.467200Z"
    }
   },
   "cell_type": "code",
   "source": [
    "groups_total = pd.concat([groups, groups_add])\n",
    "print('Общее кол-во строк до соединения:', groups_add.id.count() + groups.id.count(), \n",
    "      '\\nОбщее кол-во строк до соединения после соединения:', pd.concat([groups, groups_add]).id.count(),\n",
    "      '\\nВсе верно' if groups_add.id.count() + groups.id.count() == groups_total.id.count() else '\\nНеверное количество')"
   ],
   "id": "3b9491e9bb559cb5",
   "outputs": [
    {
     "name": "stdout",
     "output_type": "stream",
     "text": [
      "Общее кол-во строк до соединения: 74576 \n",
      "Общее кол-во строк до соединения после соединения: 74576 \n",
      "Все верно\n"
     ]
    }
   ],
   "execution_count": 10
  },
  {
   "metadata": {
    "ExecuteTime": {
     "end_time": "2024-11-11T13:29:55.496321Z",
     "start_time": "2024-11-11T13:29:55.477661Z"
    }
   },
   "cell_type": "code",
   "source": [
    "print('Распределение всех пользователей по группам: \\nГруппа A:', \n",
    "      groups_total.grp.value_counts()[1], '\\nГруппа B:',\n",
    "      groups_total.grp.value_counts()[0], '\\nВсего:   ',\n",
    "      groups_total.grp.value_counts()[1] +\n",
    "      groups_total.grp.value_counts()[0])"
   ],
   "id": "b68a0cb8b80538f7",
   "outputs": [
    {
     "name": "stdout",
     "output_type": "stream",
     "text": [
      "Распределение всех пользователей по группам: \n",
      "Группа A: 14693 \n",
      "Группа B: 59883 \n",
      "Всего:    74576\n"
     ]
    }
   ],
   "execution_count": 11
  },
  {
   "metadata": {
    "ExecuteTime": {
     "end_time": "2024-11-11T13:29:55.506182Z",
     "start_time": "2024-11-11T13:29:55.497667Z"
    }
   },
   "cell_type": "code",
   "source": [
    "paid_not_active = checks.query('student_id not in @active_studs.student_id')\n",
    "print('Количество пользователей из списка активных, но не вошедших в общий список:', \n",
    "      active_studs.query('student_id not in @groups_total.id').shape[0],\n",
    "      '\\nКоличество оплативших пользователей, отсутствующих в общем списке:',\n",
    "      checks.query('student_id not in @groups_total.id').shape[0],\n",
    "      '\\nКоличество оплативших пользователей, отсутствующих в списке активных в дни проведения теста:',\n",
    "      paid_not_active.shape[0])"
   ],
   "id": "f6708409855f59ed",
   "outputs": [
    {
     "name": "stdout",
     "output_type": "stream",
     "text": [
      "Количество пользователей из списка активных, но не вошедших в общий список: 0 \n",
      "Количество оплативших пользователей, отсутствующих в общем списке: 0 \n",
      "Количество оплативших пользователей, отсутствующих в списке активных в дни проведения теста: 149\n"
     ]
    }
   ],
   "execution_count": 12
  },
  {
   "metadata": {},
   "cell_type": "markdown",
   "source": [
    "-------------\n",
    "Получается, что в период проведения экспериментов были оплаты и от тех студентов, которые не посещали платформу. Возможно, это автоплатежи."
   ],
   "id": "3758d7cfa834f722"
  },
  {
   "metadata": {
    "ExecuteTime": {
     "end_time": "2024-11-11T13:29:55.526195Z",
     "start_time": "2024-11-11T13:29:55.507207Z"
    }
   },
   "cell_type": "code",
   "source": [
    "print('Распредление checks по группам: \\nГруппа A:', \n",
    "      groups_total.query('id in @checks.student_id').grp.value_counts()[0], '\\nГруппа B:',\n",
    "      groups_total.query('id in @checks.student_id').grp.value_counts()[1], '\\nВсего:   ', \n",
    "      groups_total.query('id in @checks.student_id').grp.value_counts()[0] + \n",
    "      groups_total.query('id in @checks.student_id').grp.value_counts()[1])"
   ],
   "id": "16135326068a236f",
   "outputs": [
    {
     "name": "stdout",
     "output_type": "stream",
     "text": [
      "Распредление checks по группам: \n",
      "Группа A: 434 \n",
      "Группа B: 107 \n",
      "Всего:    541\n"
     ]
    }
   ],
   "execution_count": 13
  },
  {
   "metadata": {
    "ExecuteTime": {
     "end_time": "2024-11-11T13:29:55.546364Z",
     "start_time": "2024-11-11T13:29:55.527228Z"
    }
   },
   "cell_type": "code",
   "source": [
    "print('Оплатили, но не в списке активных, количество по группам:\\nГруппа A:', \n",
    "      groups_total.query('id in @paid_not_active.student_id').grp.value_counts()[1], '\\nГруппа B:',\n",
    "      groups_total.query('id in @paid_not_active.student_id').grp.value_counts()[0], '\\nВсего:   ',\n",
    "      groups_total.query('id in @paid_not_active.student_id').grp.value_counts()[1] + \n",
    "      groups_total.query('id in @paid_not_active.student_id').grp.value_counts()[0])"
   ],
   "id": "baf65832f286ed25",
   "outputs": [
    {
     "name": "stdout",
     "output_type": "stream",
     "text": [
      "Оплатили, но не в списке активных, количество по группам:\n",
      "Группа A: 29 \n",
      "Группа B: 120 \n",
      "Всего:    149\n"
     ]
    }
   ],
   "execution_count": 14
  },
  {
   "metadata": {
    "ExecuteTime": {
     "end_time": "2024-11-11T13:29:55.566405Z",
     "start_time": "2024-11-11T13:29:55.547371Z"
    }
   },
   "cell_type": "code",
   "source": [
    "print('Распределение active_studs по группам: \\nГруппа A:', \n",
    "      groups_total.query('id in @active_studs.student_id').grp.value_counts()[1], '\\nГруппа B:',\n",
    "      groups_total.query('id in @active_studs.student_id').grp.value_counts()[0], '\\nВсего:   ',\n",
    "      groups_total.query('id in @active_studs.student_id').grp.value_counts()[1] + \n",
    "      groups_total.query('id in @active_studs.student_id').grp.value_counts()[0])"
   ],
   "id": "78513cd6023f8168",
   "outputs": [
    {
     "name": "stdout",
     "output_type": "stream",
     "text": [
      "Распределение active_studs по группам: \n",
      "Группа A: 1538 \n",
      "Группа B: 6803 \n",
      "Всего:    8341\n"
     ]
    }
   ],
   "execution_count": 15
  },
  {
   "metadata": {
    "ExecuteTime": {
     "end_time": "2024-11-11T13:29:55.586204Z",
     "start_time": "2024-11-11T13:29:55.567438Z"
    }
   },
   "cell_type": "code",
   "source": [
    "print('Активные оплатившие пользователи, количество по группам: \\nГруппа A:', \n",
    "      groups_total.query('id in @active_studs.student_id & id in @checks.student_id').grp.value_counts()[1], '\\nГруппа B:',\n",
    "      groups_total.query('id in @active_studs.student_id & id in @checks.student_id').grp.value_counts()[0], '\\nВсего:   ',\n",
    "      groups_total.query('id in @active_studs.student_id & id in @checks.student_id').grp.value_counts()[1] +\n",
    "      groups_total.query('id in @active_studs.student_id & id in @checks.student_id').grp.value_counts()[0])"
   ],
   "id": "9e756a9f74b9cb95",
   "outputs": [
    {
     "name": "stdout",
     "output_type": "stream",
     "text": [
      "Активные оплатившие пользователи, количество по группам: \n",
      "Группа A: 78 \n",
      "Группа B: 314 \n",
      "Всего:    392\n"
     ]
    }
   ],
   "execution_count": 16
  },
  {
   "metadata": {
    "ExecuteTime": {
     "end_time": "2024-11-11T13:29:55.606256Z",
     "start_time": "2024-11-11T13:29:55.587222Z"
    }
   },
   "cell_type": "code",
   "source": [
    "print('Активные, но не оплатившие пользователи, количество по группам: \\nГруппа A:', \n",
    "      groups_total.query('id in @active_studs.student_id & id not in @checks.student_id').grp.value_counts()[1], '\\nГруппа B:',\n",
    "      groups_total.query('id in @active_studs.student_id & id not in @checks.student_id').grp.value_counts()[0], '\\nВсего:   ',\n",
    "      groups_total.query('id in @active_studs.student_id & id not in @checks.student_id').grp.value_counts()[1] +\n",
    "      groups_total.query('id in @active_studs.student_id & id not in @checks.student_id').grp.value_counts()[0])"
   ],
   "id": "40458bc55090dfb6",
   "outputs": [
    {
     "name": "stdout",
     "output_type": "stream",
     "text": [
      "Активные, но не оплатившие пользователи, количество по группам: \n",
      "Группа A: 1460 \n",
      "Группа B: 6489 \n",
      "Всего:    7949\n"
     ]
    }
   ],
   "execution_count": 17
  },
  {
   "metadata": {},
   "cell_type": "markdown",
   "source": [
    "Подвем небольшой итог изобразив проанализированную информацию в виде кругов Эйлера:\n",
    "\n",
    "![](eulers_circles.png)\n",
    "\n",
    "У нас есть активные пользователи, те, что заходили на сайт в дни проведения теста и есть пользователи, которые совершили платежи. Активные с оплатившими пересекаются только частично, отсюда возникает вопрос: кто те пользователи, которые оплатили, но не попали в список активных? Из постановки задачи это не ясно, возможно это автоматические платежи, а возможно сбой системы и все оплатившие являются активными. Так как у нас нет возможности прояснить это, уберём из выборки оплативших не активных. Т.е. за оплативших будем считать только тех, кто одновременно является и оплатившим, и активным (пересечение `active_studs` и `checks` - 392 человека).\n",
    "\n",
    "Пользователи распределены по группам неравномерно. Группа B значительно больше, чем группа А.\n",
    "\n",
    "----------------------------------\n",
    "\n",
    "Объединим список активных пользователей со списком оплативших, отбросив из последних тех, кого нет в списке активных:"
   ],
   "id": "e2451a92faadec4"
  },
  {
   "metadata": {
    "ExecuteTime": {
     "end_time": "2024-11-11T13:29:55.616128Z",
     "start_time": "2024-11-11T13:29:55.607299Z"
    }
   },
   "cell_type": "code",
   "source": [
    "active_checks = (\n",
    "                active_studs\n",
    "                .merge(checks, how='left', on='student_id')\n",
    "                .rename(columns={'student_id': 'id'})\n",
    "                )\n",
    "active_checks.query('rev.notna()').head()"
   ],
   "id": "a3086ff84c86b241",
   "outputs": [
    {
     "data": {
      "text/plain": [
       "          id        rev\n",
       "62   1184303  1530.0000\n",
       "67   3354191  1900.0001\n",
       "77   3278734  1900.0000\n",
       "99    720651  1980.0000\n",
       "193  1232221  1900.0000"
      ],
      "text/html": [
       "<div>\n",
       "<style scoped>\n",
       "    .dataframe tbody tr th:only-of-type {\n",
       "        vertical-align: middle;\n",
       "    }\n",
       "\n",
       "    .dataframe tbody tr th {\n",
       "        vertical-align: top;\n",
       "    }\n",
       "\n",
       "    .dataframe thead th {\n",
       "        text-align: right;\n",
       "    }\n",
       "</style>\n",
       "<table border=\"1\" class=\"dataframe\">\n",
       "  <thead>\n",
       "    <tr style=\"text-align: right;\">\n",
       "      <th></th>\n",
       "      <th>id</th>\n",
       "      <th>rev</th>\n",
       "    </tr>\n",
       "  </thead>\n",
       "  <tbody>\n",
       "    <tr>\n",
       "      <th>62</th>\n",
       "      <td>1184303</td>\n",
       "      <td>1530.0000</td>\n",
       "    </tr>\n",
       "    <tr>\n",
       "      <th>67</th>\n",
       "      <td>3354191</td>\n",
       "      <td>1900.0001</td>\n",
       "    </tr>\n",
       "    <tr>\n",
       "      <th>77</th>\n",
       "      <td>3278734</td>\n",
       "      <td>1900.0000</td>\n",
       "    </tr>\n",
       "    <tr>\n",
       "      <th>99</th>\n",
       "      <td>720651</td>\n",
       "      <td>1980.0000</td>\n",
       "    </tr>\n",
       "    <tr>\n",
       "      <th>193</th>\n",
       "      <td>1232221</td>\n",
       "      <td>1900.0000</td>\n",
       "    </tr>\n",
       "  </tbody>\n",
       "</table>\n",
       "</div>"
      ]
     },
     "execution_count": 18,
     "metadata": {},
     "output_type": "execute_result"
    }
   ],
   "execution_count": 18
  },
  {
   "metadata": {},
   "cell_type": "markdown",
   "source": "Объединим активных оплативших из предыдущего шага с `groups_total`, оставив только активных:",
   "id": "6440837dc75ce9f5"
  },
  {
   "metadata": {
    "ExecuteTime": {
     "end_time": "2024-11-11T13:29:55.626347Z",
     "start_time": "2024-11-11T13:29:55.617153Z"
    }
   },
   "cell_type": "code",
   "source": "active_total = groups_total.merge(active_checks, how='right', on='id')",
   "id": "77c48286e09da275",
   "outputs": [],
   "execution_count": 19
  },
  {
   "metadata": {},
   "cell_type": "markdown",
   "source": "Добавим колонку со статусом оплаты (0 - не оплачен, 1 - оплачен):",
   "id": "cdeb2506be23472a"
  },
  {
   "metadata": {
    "ExecuteTime": {
     "end_time": "2024-11-11T13:29:55.646389Z",
     "start_time": "2024-11-11T13:29:55.627416Z"
    }
   },
   "cell_type": "code",
   "source": [
    "active_total['payment'] = active_total.rev.apply(lambda x: 0 if np.isnan(x) else 1)\n",
    "active_total.query('rev.isna()').head()"
   ],
   "id": "1778c9c838bfb88e",
   "outputs": [
    {
     "data": {
      "text/plain": [
       "        id grp  rev  payment\n",
       "0   581585   A  NaN        0\n",
       "1  5723133   A  NaN        0\n",
       "2  3276743   B  NaN        0\n",
       "3  4238589   A  NaN        0\n",
       "4  4475369   B  NaN        0"
      ],
      "text/html": [
       "<div>\n",
       "<style scoped>\n",
       "    .dataframe tbody tr th:only-of-type {\n",
       "        vertical-align: middle;\n",
       "    }\n",
       "\n",
       "    .dataframe tbody tr th {\n",
       "        vertical-align: top;\n",
       "    }\n",
       "\n",
       "    .dataframe thead th {\n",
       "        text-align: right;\n",
       "    }\n",
       "</style>\n",
       "<table border=\"1\" class=\"dataframe\">\n",
       "  <thead>\n",
       "    <tr style=\"text-align: right;\">\n",
       "      <th></th>\n",
       "      <th>id</th>\n",
       "      <th>grp</th>\n",
       "      <th>rev</th>\n",
       "      <th>payment</th>\n",
       "    </tr>\n",
       "  </thead>\n",
       "  <tbody>\n",
       "    <tr>\n",
       "      <th>0</th>\n",
       "      <td>581585</td>\n",
       "      <td>A</td>\n",
       "      <td>NaN</td>\n",
       "      <td>0</td>\n",
       "    </tr>\n",
       "    <tr>\n",
       "      <th>1</th>\n",
       "      <td>5723133</td>\n",
       "      <td>A</td>\n",
       "      <td>NaN</td>\n",
       "      <td>0</td>\n",
       "    </tr>\n",
       "    <tr>\n",
       "      <th>2</th>\n",
       "      <td>3276743</td>\n",
       "      <td>B</td>\n",
       "      <td>NaN</td>\n",
       "      <td>0</td>\n",
       "    </tr>\n",
       "    <tr>\n",
       "      <th>3</th>\n",
       "      <td>4238589</td>\n",
       "      <td>A</td>\n",
       "      <td>NaN</td>\n",
       "      <td>0</td>\n",
       "    </tr>\n",
       "    <tr>\n",
       "      <th>4</th>\n",
       "      <td>4475369</td>\n",
       "      <td>B</td>\n",
       "      <td>NaN</td>\n",
       "      <td>0</td>\n",
       "    </tr>\n",
       "  </tbody>\n",
       "</table>\n",
       "</div>"
      ]
     },
     "execution_count": 20,
     "metadata": {},
     "output_type": "execute_result"
    }
   ],
   "execution_count": 20
  },
  {
   "metadata": {},
   "cell_type": "markdown",
   "source": "Заменим NaN на нули:",
   "id": "e991693dbb06172f"
  },
  {
   "metadata": {
    "ExecuteTime": {
     "end_time": "2024-11-11T13:29:55.666391Z",
     "start_time": "2024-11-11T13:29:55.657235Z"
    }
   },
   "cell_type": "code",
   "source": "active_total['rev'] = active_total.rev.fillna(0)",
   "id": "2c1d1638268c6a7e",
   "outputs": [],
   "execution_count": 21
  },
  {
   "metadata": {},
   "cell_type": "markdown",
   "source": [
    "Сформируем датафрейм со всей собранной информацией.\n",
    "Активные + оплатившие:"
   ],
   "id": "e3a6bfea9ae5299c"
  },
  {
   "metadata": {
    "ExecuteTime": {
     "end_time": "2024-11-11T13:29:55.716421Z",
     "start_time": "2024-11-11T13:29:55.697393Z"
    }
   },
   "cell_type": "code",
   "source": [
    "active_total_paid = active_total[active_total.payment == 1]\n",
    "active_total_paid.head()"
   ],
   "id": "ee89cf616d5a2679",
   "outputs": [
    {
     "data": {
      "text/plain": [
       "          id grp        rev  payment\n",
       "62   1184303   A  1530.0000        1\n",
       "67   3354191   B  1900.0001        1\n",
       "77   3278734   B  1900.0000        1\n",
       "99    720651   A  1980.0000        1\n",
       "193  1232221   B  1900.0000        1"
      ],
      "text/html": [
       "<div>\n",
       "<style scoped>\n",
       "    .dataframe tbody tr th:only-of-type {\n",
       "        vertical-align: middle;\n",
       "    }\n",
       "\n",
       "    .dataframe tbody tr th {\n",
       "        vertical-align: top;\n",
       "    }\n",
       "\n",
       "    .dataframe thead th {\n",
       "        text-align: right;\n",
       "    }\n",
       "</style>\n",
       "<table border=\"1\" class=\"dataframe\">\n",
       "  <thead>\n",
       "    <tr style=\"text-align: right;\">\n",
       "      <th></th>\n",
       "      <th>id</th>\n",
       "      <th>grp</th>\n",
       "      <th>rev</th>\n",
       "      <th>payment</th>\n",
       "    </tr>\n",
       "  </thead>\n",
       "  <tbody>\n",
       "    <tr>\n",
       "      <th>62</th>\n",
       "      <td>1184303</td>\n",
       "      <td>A</td>\n",
       "      <td>1530.0000</td>\n",
       "      <td>1</td>\n",
       "    </tr>\n",
       "    <tr>\n",
       "      <th>67</th>\n",
       "      <td>3354191</td>\n",
       "      <td>B</td>\n",
       "      <td>1900.0001</td>\n",
       "      <td>1</td>\n",
       "    </tr>\n",
       "    <tr>\n",
       "      <th>77</th>\n",
       "      <td>3278734</td>\n",
       "      <td>B</td>\n",
       "      <td>1900.0000</td>\n",
       "      <td>1</td>\n",
       "    </tr>\n",
       "    <tr>\n",
       "      <th>99</th>\n",
       "      <td>720651</td>\n",
       "      <td>A</td>\n",
       "      <td>1980.0000</td>\n",
       "      <td>1</td>\n",
       "    </tr>\n",
       "    <tr>\n",
       "      <th>193</th>\n",
       "      <td>1232221</td>\n",
       "      <td>B</td>\n",
       "      <td>1900.0000</td>\n",
       "      <td>1</td>\n",
       "    </tr>\n",
       "  </tbody>\n",
       "</table>\n",
       "</div>"
      ]
     },
     "execution_count": 22,
     "metadata": {},
     "output_type": "execute_result"
    }
   ],
   "execution_count": 22
  },
  {
   "metadata": {},
   "cell_type": "markdown",
   "source": "Активные пользователи группы А:",
   "id": "9d776f792bb6c3de"
  },
  {
   "metadata": {
    "ExecuteTime": {
     "end_time": "2024-11-11T13:29:55.776337Z",
     "start_time": "2024-11-11T13:29:55.767423Z"
    }
   },
   "cell_type": "code",
   "source": [
    "a_group = active_total[active_total.grp == 'A']\n",
    "a_group.head()"
   ],
   "id": "432748e844cbee86",
   "outputs": [
    {
     "data": {
      "text/plain": [
       "         id grp  rev  payment\n",
       "0    581585   A  0.0        0\n",
       "1   5723133   A  0.0        0\n",
       "3   4238589   A  0.0        0\n",
       "7   1394612   A  0.0        0\n",
       "21  5194768   A  0.0        0"
      ],
      "text/html": [
       "<div>\n",
       "<style scoped>\n",
       "    .dataframe tbody tr th:only-of-type {\n",
       "        vertical-align: middle;\n",
       "    }\n",
       "\n",
       "    .dataframe tbody tr th {\n",
       "        vertical-align: top;\n",
       "    }\n",
       "\n",
       "    .dataframe thead th {\n",
       "        text-align: right;\n",
       "    }\n",
       "</style>\n",
       "<table border=\"1\" class=\"dataframe\">\n",
       "  <thead>\n",
       "    <tr style=\"text-align: right;\">\n",
       "      <th></th>\n",
       "      <th>id</th>\n",
       "      <th>grp</th>\n",
       "      <th>rev</th>\n",
       "      <th>payment</th>\n",
       "    </tr>\n",
       "  </thead>\n",
       "  <tbody>\n",
       "    <tr>\n",
       "      <th>0</th>\n",
       "      <td>581585</td>\n",
       "      <td>A</td>\n",
       "      <td>0.0</td>\n",
       "      <td>0</td>\n",
       "    </tr>\n",
       "    <tr>\n",
       "      <th>1</th>\n",
       "      <td>5723133</td>\n",
       "      <td>A</td>\n",
       "      <td>0.0</td>\n",
       "      <td>0</td>\n",
       "    </tr>\n",
       "    <tr>\n",
       "      <th>3</th>\n",
       "      <td>4238589</td>\n",
       "      <td>A</td>\n",
       "      <td>0.0</td>\n",
       "      <td>0</td>\n",
       "    </tr>\n",
       "    <tr>\n",
       "      <th>7</th>\n",
       "      <td>1394612</td>\n",
       "      <td>A</td>\n",
       "      <td>0.0</td>\n",
       "      <td>0</td>\n",
       "    </tr>\n",
       "    <tr>\n",
       "      <th>21</th>\n",
       "      <td>5194768</td>\n",
       "      <td>A</td>\n",
       "      <td>0.0</td>\n",
       "      <td>0</td>\n",
       "    </tr>\n",
       "  </tbody>\n",
       "</table>\n",
       "</div>"
      ]
     },
     "execution_count": 23,
     "metadata": {},
     "output_type": "execute_result"
    }
   ],
   "execution_count": 23
  },
  {
   "metadata": {},
   "cell_type": "markdown",
   "source": "Оплатившие пользователи из группы А",
   "id": "5c3d95de64589974"
  },
  {
   "metadata": {
    "ExecuteTime": {
     "end_time": "2024-11-11T13:29:55.863021Z",
     "start_time": "2024-11-11T13:29:55.847065Z"
    }
   },
   "cell_type": "code",
   "source": [
    "a_group_paid = a_group[a_group.payment == 1]\n",
    "a_group_paid.head()"
   ],
   "id": "7358da9c9a654122",
   "outputs": [
    {
     "data": {
      "text/plain": [
       "          id grp     rev  payment\n",
       "62   1184303   A  1530.0        1\n",
       "99    720651   A  1980.0        1\n",
       "306  4337103   A   580.0        1\n",
       "392   332387   A  2910.0        1\n",
       "439  1659434   A   690.0        1"
      ],
      "text/html": [
       "<div>\n",
       "<style scoped>\n",
       "    .dataframe tbody tr th:only-of-type {\n",
       "        vertical-align: middle;\n",
       "    }\n",
       "\n",
       "    .dataframe tbody tr th {\n",
       "        vertical-align: top;\n",
       "    }\n",
       "\n",
       "    .dataframe thead th {\n",
       "        text-align: right;\n",
       "    }\n",
       "</style>\n",
       "<table border=\"1\" class=\"dataframe\">\n",
       "  <thead>\n",
       "    <tr style=\"text-align: right;\">\n",
       "      <th></th>\n",
       "      <th>id</th>\n",
       "      <th>grp</th>\n",
       "      <th>rev</th>\n",
       "      <th>payment</th>\n",
       "    </tr>\n",
       "  </thead>\n",
       "  <tbody>\n",
       "    <tr>\n",
       "      <th>62</th>\n",
       "      <td>1184303</td>\n",
       "      <td>A</td>\n",
       "      <td>1530.0</td>\n",
       "      <td>1</td>\n",
       "    </tr>\n",
       "    <tr>\n",
       "      <th>99</th>\n",
       "      <td>720651</td>\n",
       "      <td>A</td>\n",
       "      <td>1980.0</td>\n",
       "      <td>1</td>\n",
       "    </tr>\n",
       "    <tr>\n",
       "      <th>306</th>\n",
       "      <td>4337103</td>\n",
       "      <td>A</td>\n",
       "      <td>580.0</td>\n",
       "      <td>1</td>\n",
       "    </tr>\n",
       "    <tr>\n",
       "      <th>392</th>\n",
       "      <td>332387</td>\n",
       "      <td>A</td>\n",
       "      <td>2910.0</td>\n",
       "      <td>1</td>\n",
       "    </tr>\n",
       "    <tr>\n",
       "      <th>439</th>\n",
       "      <td>1659434</td>\n",
       "      <td>A</td>\n",
       "      <td>690.0</td>\n",
       "      <td>1</td>\n",
       "    </tr>\n",
       "  </tbody>\n",
       "</table>\n",
       "</div>"
      ]
     },
     "execution_count": 24,
     "metadata": {},
     "output_type": "execute_result"
    }
   ],
   "execution_count": 24
  },
  {
   "metadata": {},
   "cell_type": "markdown",
   "source": "Активные пользователи группы B:",
   "id": "b6c2a32327115804"
  },
  {
   "metadata": {
    "ExecuteTime": {
     "end_time": "2024-11-11T13:29:55.893832Z",
     "start_time": "2024-11-11T13:29:55.877511Z"
    }
   },
   "cell_type": "code",
   "source": [
    "b_group = active_total[active_total.grp == 'B']\n",
    "b_group.head()"
   ],
   "id": "c8ceefa1cb60e22",
   "outputs": [
    {
     "data": {
      "text/plain": [
       "        id grp  rev  payment\n",
       "2  3276743   B  0.0        0\n",
       "4  4475369   B  0.0        0\n",
       "5  5481015   B  0.0        0\n",
       "6  1353433   B  0.0        0\n",
       "8  1170611   B  0.0        0"
      ],
      "text/html": [
       "<div>\n",
       "<style scoped>\n",
       "    .dataframe tbody tr th:only-of-type {\n",
       "        vertical-align: middle;\n",
       "    }\n",
       "\n",
       "    .dataframe tbody tr th {\n",
       "        vertical-align: top;\n",
       "    }\n",
       "\n",
       "    .dataframe thead th {\n",
       "        text-align: right;\n",
       "    }\n",
       "</style>\n",
       "<table border=\"1\" class=\"dataframe\">\n",
       "  <thead>\n",
       "    <tr style=\"text-align: right;\">\n",
       "      <th></th>\n",
       "      <th>id</th>\n",
       "      <th>grp</th>\n",
       "      <th>rev</th>\n",
       "      <th>payment</th>\n",
       "    </tr>\n",
       "  </thead>\n",
       "  <tbody>\n",
       "    <tr>\n",
       "      <th>2</th>\n",
       "      <td>3276743</td>\n",
       "      <td>B</td>\n",
       "      <td>0.0</td>\n",
       "      <td>0</td>\n",
       "    </tr>\n",
       "    <tr>\n",
       "      <th>4</th>\n",
       "      <td>4475369</td>\n",
       "      <td>B</td>\n",
       "      <td>0.0</td>\n",
       "      <td>0</td>\n",
       "    </tr>\n",
       "    <tr>\n",
       "      <th>5</th>\n",
       "      <td>5481015</td>\n",
       "      <td>B</td>\n",
       "      <td>0.0</td>\n",
       "      <td>0</td>\n",
       "    </tr>\n",
       "    <tr>\n",
       "      <th>6</th>\n",
       "      <td>1353433</td>\n",
       "      <td>B</td>\n",
       "      <td>0.0</td>\n",
       "      <td>0</td>\n",
       "    </tr>\n",
       "    <tr>\n",
       "      <th>8</th>\n",
       "      <td>1170611</td>\n",
       "      <td>B</td>\n",
       "      <td>0.0</td>\n",
       "      <td>0</td>\n",
       "    </tr>\n",
       "  </tbody>\n",
       "</table>\n",
       "</div>"
      ]
     },
     "execution_count": 25,
     "metadata": {},
     "output_type": "execute_result"
    }
   ],
   "execution_count": 25
  },
  {
   "metadata": {},
   "cell_type": "markdown",
   "source": "Оплатившие пользователи из группы А",
   "id": "db4f9404ac7b67a0"
  },
  {
   "metadata": {
    "ExecuteTime": {
     "end_time": "2024-11-11T13:29:55.974385Z",
     "start_time": "2024-11-11T13:29:55.957163Z"
    }
   },
   "cell_type": "code",
   "source": [
    "b_group_paid = b_group[b_group.payment == 1]\n",
    "b_group_paid.head()"
   ],
   "id": "84e4282fea229d8a",
   "outputs": [
    {
     "data": {
      "text/plain": [
       "          id grp        rev  payment\n",
       "67   3354191   B  1900.0001        1\n",
       "77   3278734   B  1900.0000        1\n",
       "193  1232221   B  1900.0000        1\n",
       "195  3821501   B  1900.0000        1\n",
       "211  1036096   B  1900.0000        1"
      ],
      "text/html": [
       "<div>\n",
       "<style scoped>\n",
       "    .dataframe tbody tr th:only-of-type {\n",
       "        vertical-align: middle;\n",
       "    }\n",
       "\n",
       "    .dataframe tbody tr th {\n",
       "        vertical-align: top;\n",
       "    }\n",
       "\n",
       "    .dataframe thead th {\n",
       "        text-align: right;\n",
       "    }\n",
       "</style>\n",
       "<table border=\"1\" class=\"dataframe\">\n",
       "  <thead>\n",
       "    <tr style=\"text-align: right;\">\n",
       "      <th></th>\n",
       "      <th>id</th>\n",
       "      <th>grp</th>\n",
       "      <th>rev</th>\n",
       "      <th>payment</th>\n",
       "    </tr>\n",
       "  </thead>\n",
       "  <tbody>\n",
       "    <tr>\n",
       "      <th>67</th>\n",
       "      <td>3354191</td>\n",
       "      <td>B</td>\n",
       "      <td>1900.0001</td>\n",
       "      <td>1</td>\n",
       "    </tr>\n",
       "    <tr>\n",
       "      <th>77</th>\n",
       "      <td>3278734</td>\n",
       "      <td>B</td>\n",
       "      <td>1900.0000</td>\n",
       "      <td>1</td>\n",
       "    </tr>\n",
       "    <tr>\n",
       "      <th>193</th>\n",
       "      <td>1232221</td>\n",
       "      <td>B</td>\n",
       "      <td>1900.0000</td>\n",
       "      <td>1</td>\n",
       "    </tr>\n",
       "    <tr>\n",
       "      <th>195</th>\n",
       "      <td>3821501</td>\n",
       "      <td>B</td>\n",
       "      <td>1900.0000</td>\n",
       "      <td>1</td>\n",
       "    </tr>\n",
       "    <tr>\n",
       "      <th>211</th>\n",
       "      <td>1036096</td>\n",
       "      <td>B</td>\n",
       "      <td>1900.0000</td>\n",
       "      <td>1</td>\n",
       "    </tr>\n",
       "  </tbody>\n",
       "</table>\n",
       "</div>"
      ]
     },
     "execution_count": 26,
     "metadata": {},
     "output_type": "execute_result"
    }
   ],
   "execution_count": 26
  },
  {
   "metadata": {},
   "cell_type": "markdown",
   "source": "Распределение пользователей в группе А",
   "id": "695bf8a78cebc35e"
  },
  {
   "metadata": {
    "ExecuteTime": {
     "end_time": "2024-11-11T13:29:56.146237Z",
     "start_time": "2024-11-11T13:29:56.007325Z"
    }
   },
   "cell_type": "code",
   "source": [
    "a_group.rev.hist(bins=20)\n",
    "sns.despine()"
   ],
   "id": "cadfe8562b42869e",
   "outputs": [
    {
     "data": {
      "text/plain": [
       "<Figure size 640x480 with 1 Axes>"
      ],
      "image/png": "[encoded data removed]"
     },
     "metadata": {},
     "output_type": "display_data"
    }
   ],
   "execution_count": 27
  },
  {
   "metadata": {},
   "cell_type": "markdown",
   "source": "Только оплатившие в группе А",
   "id": "483d6e8df7be52cd"
  },
  {
   "metadata": {
    "ExecuteTime": {
     "end_time": "2024-11-11T13:29:56.340567Z",
     "start_time": "2024-11-11T13:29:56.147241Z"
    }
   },
   "cell_type": "code",
   "source": [
    "a_group_paid.rev.hist(bins=50)\n",
    "sns.despine()"
   ],
   "id": "fb6af3c15b028c31",
   "outputs": [
    {
     "data": {
      "text/plain": [
       "<Figure size 640x480 with 1 Axes>"
      ],
      "image/png": "[encoded data removed]"
     },
     "metadata": {},
     "output_type": "display_data"
    }
   ],
   "execution_count": 28
  },
  {
   "metadata": {},
   "cell_type": "markdown",
   "source": "Распределение в группе B",
   "id": "33ef17953b930068"
  },
  {
   "metadata": {
    "ExecuteTime": {
     "end_time": "2024-11-11T13:29:56.444181Z",
     "start_time": "2024-11-11T13:29:56.340567Z"
    }
   },
   "cell_type": "code",
   "source": [
    "b_group.rev.hist(bins=20)\n",
    "sns.despine()"
   ],
   "id": "fc1ce450927bf372",
   "outputs": [
    {
     "data": {
      "text/plain": [
       "<Figure size 640x480 with 1 Axes>"
      ],
      "image/png": "[encoded data removed]"
     },
     "metadata": {},
     "output_type": "display_data"
    }
   ],
   "execution_count": 29
  },
  {
   "metadata": {},
   "cell_type": "markdown",
   "source": "Только оплатившие в группе B",
   "id": "72d3e829b29d1376"
  },
  {
   "metadata": {
    "ExecuteTime": {
     "end_time": "2024-11-11T13:29:56.566482Z",
     "start_time": "2024-11-11T13:29:56.444181Z"
    }
   },
   "cell_type": "code",
   "source": [
    "b_group_paid.rev.hist(bins=50)\n",
    "sns.despine()"
   ],
   "id": "60e1f7e5b4e4bc6c",
   "outputs": [
    {
     "data": {
      "text/plain": [
       "<Figure size 640x480 with 1 Axes>"
      ],
      "image/png": "[encoded data removed]"
     },
     "metadata": {},
     "output_type": "display_data"
    }
   ],
   "execution_count": 30
  },
  {
   "metadata": {},
   "cell_type": "markdown",
   "source": "Сравним описательную статистику по всем пользователям в двух группах:",
   "id": "2db6993c15f2769e"
  },
  {
   "metadata": {
    "ExecuteTime": {
     "end_time": "2024-11-11T13:29:56.576328Z",
     "start_time": "2024-11-11T13:29:56.567308Z"
    }
   },
   "cell_type": "code",
   "source": [
    "a_group_descr = a_group.rev.describe().to_frame().rename(columns={'rev': 'Группа В'})\n",
    "b_group_descr = b_group.rev.describe().to_frame().rename(columns={'rev': 'Группа А'})\n",
    "pd.concat([a_group_descr, b_group_descr], axis=1)"
   ],
   "id": "c79ae369a291e29e",
   "outputs": [
    {
     "data": {
      "text/plain": [
       "          Группа В     Группа А\n",
       "count  1538.000000  6803.000000\n",
       "mean     47.347204    58.058798\n",
       "std     290.490632   313.770201\n",
       "min       0.000000     0.000000\n",
       "25%       0.000000     0.000000\n",
       "50%       0.000000     0.000000\n",
       "75%       0.000000     0.000000\n",
       "max    3660.000000  4650.000000"
      ],
      "text/html": [
       "<div>\n",
       "<style scoped>\n",
       "    .dataframe tbody tr th:only-of-type {\n",
       "        vertical-align: middle;\n",
       "    }\n",
       "\n",
       "    .dataframe tbody tr th {\n",
       "        vertical-align: top;\n",
       "    }\n",
       "\n",
       "    .dataframe thead th {\n",
       "        text-align: right;\n",
       "    }\n",
       "</style>\n",
       "<table border=\"1\" class=\"dataframe\">\n",
       "  <thead>\n",
       "    <tr style=\"text-align: right;\">\n",
       "      <th></th>\n",
       "      <th>Группа В</th>\n",
       "      <th>Группа А</th>\n",
       "    </tr>\n",
       "  </thead>\n",
       "  <tbody>\n",
       "    <tr>\n",
       "      <th>count</th>\n",
       "      <td>1538.000000</td>\n",
       "      <td>6803.000000</td>\n",
       "    </tr>\n",
       "    <tr>\n",
       "      <th>mean</th>\n",
       "      <td>47.347204</td>\n",
       "      <td>58.058798</td>\n",
       "    </tr>\n",
       "    <tr>\n",
       "      <th>std</th>\n",
       "      <td>290.490632</td>\n",
       "      <td>313.770201</td>\n",
       "    </tr>\n",
       "    <tr>\n",
       "      <th>min</th>\n",
       "      <td>0.000000</td>\n",
       "      <td>0.000000</td>\n",
       "    </tr>\n",
       "    <tr>\n",
       "      <th>25%</th>\n",
       "      <td>0.000000</td>\n",
       "      <td>0.000000</td>\n",
       "    </tr>\n",
       "    <tr>\n",
       "      <th>50%</th>\n",
       "      <td>0.000000</td>\n",
       "      <td>0.000000</td>\n",
       "    </tr>\n",
       "    <tr>\n",
       "      <th>75%</th>\n",
       "      <td>0.000000</td>\n",
       "      <td>0.000000</td>\n",
       "    </tr>\n",
       "    <tr>\n",
       "      <th>max</th>\n",
       "      <td>3660.000000</td>\n",
       "      <td>4650.000000</td>\n",
       "    </tr>\n",
       "  </tbody>\n",
       "</table>\n",
       "</div>"
      ]
     },
     "execution_count": 31,
     "metadata": {},
     "output_type": "execute_result"
    }
   ],
   "execution_count": 31
  },
  {
   "metadata": {},
   "cell_type": "markdown",
   "source": "Сравним описательную статистику по оплатившим пользователям в двух группах:",
   "id": "3ef2179a1b3b3c63"
  },
  {
   "metadata": {
    "ExecuteTime": {
     "end_time": "2024-11-11T13:29:56.586502Z",
     "start_time": "2024-11-11T13:29:56.577365Z"
    }
   },
   "cell_type": "code",
   "source": [
    "a_group_descr = a_group_paid.rev.describe().to_frame().rename(columns={'rev': 'Группа А'})\n",
    "b_group_descr = b_group_paid.rev.describe().to_frame().rename(columns={'rev': 'Группа В'})\n",
    "pd.concat([a_group_descr, b_group_descr], axis=1)"
   ],
   "id": "9f484aff93ec6390",
   "outputs": [
    {
     "data": {
      "text/plain": [
       "          Группа А     Группа В\n",
       "count    78.000000   314.000000\n",
       "mean    933.589744  1257.878992\n",
       "std     919.932711   790.864254\n",
       "min     199.000000   199.000000\n",
       "25%     290.000000   511.750000\n",
       "50%     585.000000  1140.000000\n",
       "75%    1114.750000  1900.000000\n",
       "max    3660.000000  4650.000000"
      ],
      "text/html": [
       "<div>\n",
       "<style scoped>\n",
       "    .dataframe tbody tr th:only-of-type {\n",
       "        vertical-align: middle;\n",
       "    }\n",
       "\n",
       "    .dataframe tbody tr th {\n",
       "        vertical-align: top;\n",
       "    }\n",
       "\n",
       "    .dataframe thead th {\n",
       "        text-align: right;\n",
       "    }\n",
       "</style>\n",
       "<table border=\"1\" class=\"dataframe\">\n",
       "  <thead>\n",
       "    <tr style=\"text-align: right;\">\n",
       "      <th></th>\n",
       "      <th>Группа А</th>\n",
       "      <th>Группа В</th>\n",
       "    </tr>\n",
       "  </thead>\n",
       "  <tbody>\n",
       "    <tr>\n",
       "      <th>count</th>\n",
       "      <td>78.000000</td>\n",
       "      <td>314.000000</td>\n",
       "    </tr>\n",
       "    <tr>\n",
       "      <th>mean</th>\n",
       "      <td>933.589744</td>\n",
       "      <td>1257.878992</td>\n",
       "    </tr>\n",
       "    <tr>\n",
       "      <th>std</th>\n",
       "      <td>919.932711</td>\n",
       "      <td>790.864254</td>\n",
       "    </tr>\n",
       "    <tr>\n",
       "      <th>min</th>\n",
       "      <td>199.000000</td>\n",
       "      <td>199.000000</td>\n",
       "    </tr>\n",
       "    <tr>\n",
       "      <th>25%</th>\n",
       "      <td>290.000000</td>\n",
       "      <td>511.750000</td>\n",
       "    </tr>\n",
       "    <tr>\n",
       "      <th>50%</th>\n",
       "      <td>585.000000</td>\n",
       "      <td>1140.000000</td>\n",
       "    </tr>\n",
       "    <tr>\n",
       "      <th>75%</th>\n",
       "      <td>1114.750000</td>\n",
       "      <td>1900.000000</td>\n",
       "    </tr>\n",
       "    <tr>\n",
       "      <th>max</th>\n",
       "      <td>3660.000000</td>\n",
       "      <td>4650.000000</td>\n",
       "    </tr>\n",
       "  </tbody>\n",
       "</table>\n",
       "</div>"
      ]
     },
     "execution_count": 32,
     "metadata": {},
     "output_type": "execute_result"
    }
   ],
   "execution_count": 32
  },
  {
   "metadata": {},
   "cell_type": "markdown",
   "source": "Посмотрим на выбросы (все пользователи):",
   "id": "e6355c0467ca26bc"
  },
  {
   "metadata": {
    "ExecuteTime": {
     "end_time": "2024-11-11T13:29:56.666338Z",
     "start_time": "2024-11-11T13:29:56.587386Z"
    }
   },
   "cell_type": "code",
   "source": [
    "sns.boxplot(data=active_total, y='rev', x='grp')\n",
    "sns.despine()"
   ],
   "id": "a0eb18f3d5b6081a",
   "outputs": [
    {
     "data": {
      "text/plain": [
       "<Figure size 640x480 with 1 Axes>"
      ],
      "image/png": "[encoded data removed]"
     },
     "metadata": {},
     "output_type": "display_data"
    }
   ],
   "execution_count": 33
  },
  {
   "metadata": {},
   "cell_type": "markdown",
   "source": "Посмотрим на выбросы (купившие):",
   "id": "ed3d448a80689d15"
  },
  {
   "metadata": {
    "ExecuteTime": {
     "end_time": "2024-11-11T13:29:56.747084Z",
     "start_time": "2024-11-11T13:29:56.667383Z"
    }
   },
   "cell_type": "code",
   "source": [
    "sns.boxplot(data=active_total_paid, y='rev', x='grp')\n",
    "sns.despine()"
   ],
   "id": "e2b2447553d9f282",
   "outputs": [
    {
     "data": {
      "text/plain": [
       "<Figure size 640x480 with 1 Axes>"
      ],
      "image/png": "[encoded data removed]"
     },
     "metadata": {},
     "output_type": "display_data"
    }
   ],
   "execution_count": 34
  },
  {
   "metadata": {},
   "cell_type": "markdown",
   "source": [
    "Для оценки результатов следует выбрать следующие метрики:\n",
    "* `CR` (конверсия онлайн платежей) - отношение количества оплативших клиентов к общему числу активных клиентов.\n",
    "Может отражать юзабилити новой механики оплаты.\n",
    "* `ARPU` - отношение общей прибыли к количеству активных пользователей.\n",
    "Важный показатель для бизнеса, при увеличении этого показателя бизнес получает больше денег.\n",
    "* `ARPPU` - отношение общей прибыли к количеству активных платящих пользователей.\n",
    "Причины выбора этой метрики такие же, как и в случае с ARPU."
   ],
   "id": "b5620e0c7a47de60"
  },
  {
   "metadata": {
    "ExecuteTime": {
     "end_time": "2024-11-11T13:29:56.757225Z",
     "start_time": "2024-11-11T13:29:56.747084Z"
    }
   },
   "cell_type": "code",
   "source": [
    "print('\\033[1mCR \\033[0m\\nКонверсия оплативших пользователей:\\nГруппа А:', \n",
    "                                             round(a_group_paid.id.count() / a_group.id.count(), 4),\n",
    "                                             '\\nГруппа В:', \n",
    "                                             round(b_group_paid.id.count() / b_group.id.count(), 4),\n",
    "      '\\nКонверсия у группы B на', abs(round((round(b_group_paid.id.count() / b_group.id.count(), 4) - \n",
    "                                   round(a_group_paid.id.count() / a_group.id.count(), 4)) / \n",
    "                                   round(a_group_paid.id.count() / a_group.id.count(), 4), 3) * 100), '%',\n",
    "      'больше, чем у группы А' if round((round(b_group_paid.id.count() / b_group.id.count(), 4) - \n",
    "                                  round(a_group_paid.id.count() / a_group.id.count(), 4)) / \n",
    "                                  round(a_group_paid.id.count() / a_group.id.count(), 4), 3) * 100 > 0 \n",
    "                               else 'меньше, чем у группы А')\n",
    "\n",
    "print('\\n\\033[1mARPPU \\033[0m\\nотношение общей прибыли к количеству активных пользователей:\\nГруппа А:',\n",
    "                                                                                      round(a_group_paid.rev.mean(), 2), \n",
    "                                                                                     '\\nГруппа В:', \n",
    "                                                                                      round(b_group_paid.rev.mean(), 2),\n",
    "      '\\nARPPU группы В на', round(round(b_group_paid.rev.mean() - a_group_paid.rev.mean(), 2) /\n",
    "                             round(a_group_paid.rev.mean(), 2) * 100, 2),'%',\n",
    "      'больше, чем у группы А' if round(round(b_group_paid.rev.mean() - a_group_paid.rev.mean(), 2) /\n",
    "                                  round(a_group_paid.rev.mean(), 2) * 100, 2) > 0 \n",
    "                               else 'меньше, чем у группы А/n')\n",
    "\n",
    "print('\\n\\033[1mARPU\\033[0m\\nОтношение общей прибыли к количеству активных платящих пользователей:\\nГруппа А:',\n",
    "                                                                          round(a_group_paid.rev.sum() / a_group.id.count(), 2),\n",
    "                                                                          '\\nГруппа В:', \n",
    "                                                                          round(b_group_paid.rev.sum() / b_group.id.count(), 2),\n",
    "      '\\nARPU группы В на', \n",
    "      round((round(b_group_paid.rev.sum() / b_group.id.count(), 2) - round(a_group_paid.rev.sum() / a_group.id.count(), 2)) /\n",
    "      round(a_group_paid.rev.sum() / a_group.id.count(), 2) * 100, 2), '%',\n",
    "      'больше, чем у группы А' if \n",
    "      round((round(b_group_paid.rev.sum() / b_group.id.count(), 2) - round(a_group_paid.rev.sum() / a_group.id.count(), 2)) /\n",
    "      round(a_group_paid.rev.sum() / a_group.id.count(), 2) * 100, 2) > 0\n",
    "                               else 'меньше, чем у группы А')"
   ],
   "id": "1ce19d88c3da5845",
   "outputs": [
    {
     "name": "stdout",
     "output_type": "stream",
     "text": [
      "\u001B[1mCR \u001B[0m\n",
      "Конверсия оплативших пользователей:\n",
      "Группа А: 0.0507 \n",
      "Группа В: 0.0462 \n",
      "Конверсия у группы B на 8.9 % меньше, чем у группы А\n",
      "\n",
      "\u001B[1mARPPU \u001B[0m\n",
      "отношение общей прибыли к количеству активных пользователей:\n",
      "Группа А: 933.59 \n",
      "Группа В: 1257.88 \n",
      "ARPPU группы В на 34.74 % больше, чем у группы А\n",
      "\n",
      "\u001B[1mARPU\u001B[0m\n",
      "Отношение общей прибыли к количеству активных платящих пользователей:\n",
      "Группа А: 47.35 \n",
      "Группа В: 58.06 \n",
      "ARPU группы В на 22.62 % больше, чем у группы А\n"
     ]
    }
   ],
   "execution_count": 35
  },
  {
   "metadata": {},
   "cell_type": "markdown",
   "source": [
    "### Имеются ли различия в показателях и с чем они могут быть связаны?\n",
    "Наблюдается отрицательный эффект `CR`, и положительные эффекты в `ARPU` и `ARPPU`. Другими словами: конверсия падает, но доход на пользователя/покупателя растёт. Это может быть связано c отсечением части пользователей платящих малые суммы с одновременным увеличением среднего чека.\n",
    "\n",
    "### Являются ли эти различия статистически значимыми?\n",
    "Размеры групп очень сильно отличаются, поэтому классические тесты могут давать большие погрешности. В таком случае для оценки подойдет `bootstrap`.\n",
    "\n",
    "* Строим `bootstrap` распределения для групп А и B.\n",
    "* Вычислим их разницу.\n",
    "* В получившемся рапределении разницы находим доверительных интервал.\n",
    "* Проверяем, попадает ли доверительный интервал в 0. Если да, то нулевая гипотеза на данном уровне значимости принимается, если нет - отвергается.\n",
    "------\n",
    "\n",
    "Напишем функцию, которая позволит проверять гипотезы с помощью bootstrap:"
   ],
   "id": "7a4b9f90d5daecce"
  },
  {
   "metadata": {
    "ExecuteTime": {
     "end_time": "2024-11-11T13:29:56.767116Z",
     "start_time": "2024-11-11T13:29:56.757584Z"
    }
   },
   "cell_type": "code",
   "source": [
    "# функция для проверки гипотез с помощью бутстрапа\n",
    "def get_bootstrap(\n",
    "    data_column_1,                       # числовые значения первой (контрольной) выборки\n",
    "    data_column_2,                       # числовые значения второй (тестовой) выборки\n",
    "    boot_it   = 1000,                    # количество бутстрэп-подвыборок\n",
    "    statistic = np.mean,                 # интересующая нас статистика\n",
    "    bootstrap_conf_level = 0.95,         # уровень значимости\n",
    "    graph         = True,                # отрисовывать ли график\n",
    "    show_progress = True                 # показывать ли индикатор програсса\n",
    "    ):\n",
    "    boot_len  = max([len(data_column_1), len(data_column_2)])\n",
    "    boot_data = []\n",
    "    \n",
    "    # выбираем отрисовывать индикатора прогресса или нет\n",
    "    if show_progress:\n",
    "        progress_bar = tqdm\n",
    "    else:\n",
    "        progress_bar = lambda x: x\n",
    "    \n",
    "    for i in progress_bar(range(boot_it)):        # извлекаем подвыборки\n",
    "        samples_1 = data_column_1.sample(\n",
    "            boot_len, \n",
    "            replace = True                        # параметр возвращения\n",
    "        ).values\n",
    "        \n",
    "        samples_2 = data_column_2.sample(\n",
    "            boot_len, \n",
    "            replace = True\n",
    "        ).values\n",
    "        \n",
    "        samples_delta = samples_2 - samples_1      # находим разницу подвыборок\n",
    "        boot_data.append(statistic(samples_delta)) # применяем статистику для разниц подвыборок\n",
    "        \n",
    "    pd_boot_data = pd.DataFrame(boot_data)\n",
    "\n",
    "    # доверительный интервал \n",
    "    left_quant  = (1 - bootstrap_conf_level)/2\n",
    "    right_quant = 1 - (1 - bootstrap_conf_level) / 2\n",
    "    ci = pd_boot_data.quantile([left_quant, right_quant])\n",
    "        \n",
    "    p_1 = norm.cdf(\n",
    "        x     = 0, \n",
    "        loc   = np.mean(boot_data), \n",
    "        scale = np.std(boot_data)\n",
    "    )\n",
    "    p_2 = norm.cdf(\n",
    "        x     = 0, \n",
    "        loc   = -np.mean(boot_data), \n",
    "        scale = np.std(boot_data)\n",
    "    )\n",
    "    p_value = min(p_1, p_2) * 2\n",
    "        \n",
    "    # отисовка графиков\n",
    "    if graph == True:\n",
    "        plt.hist(pd_boot_data[0], bins = 50)\n",
    "        plt.style.use('ggplot')\n",
    "        plt.vlines(ci, ymin=0, ymax=50, linestyle='--')\n",
    "        plt.xlabel('boot_data')\n",
    "        plt.ylabel('frequency')\n",
    "        plt.title(\"Histogram of boot_data\")\n",
    "        plt.show()\n",
    "       \n",
    "    return {\"ci\": ci, \n",
    "            \"p_value\": p_value}"
   ],
   "id": "b085103ecc171ced",
   "outputs": [],
   "execution_count": 36
  },
  {
   "metadata": {},
   "cell_type": "markdown",
   "source": "Определим функции для метрик",
   "id": "a5dc69952bd86e25"
  },
  {
   "metadata": {
    "ExecuteTime": {
     "end_time": "2024-11-11T13:30:28.047245Z",
     "start_time": "2024-11-11T13:30:28.037006Z"
    }
   },
   "cell_type": "code",
   "source": [
    "def cr_func(x):\n",
    "    '''\n",
    "    CR\n",
    "    Для корректной работы функции в качестве аргумента y \n",
    "    необходимо передать серию со значениями 1 и 0, или True и False,\n",
    "    в соответствие с тем произошло ожидаемое событие или нет.\n",
    "    '''\n",
    "    return sum(x) / len(x)\n",
    "\n",
    "def arpu_func(y):\n",
    "    '''\n",
    "    ARPU\n",
    "    Для корректной работы функции в качестве аргумента y \n",
    "    необходимо передать серию, где все NaN-значения заменнены на нули\n",
    "    '''\n",
    "    return np.mean(y)\n",
    "\n",
    "def arppu_func(y):\n",
    "    '''\n",
    "    ARPPU\n",
    "    Для корректной работы функции в качестве аргумента y \n",
    "    необходимо передать серию, где отобраны только платежи, т.е. отфильтрованы нули\n",
    "    или вместо нулей стоят NaN.\n",
    "    '''\n",
    "    return np.mean(y)"
   ],
   "id": "d9e1658418669e41",
   "outputs": [],
   "execution_count": 37
  },
  {
   "metadata": {},
   "cell_type": "markdown",
   "source": [
    "### CR\n",
    "\n",
    "Сформулируем нулевую и альтернативную гипотезы:\n",
    "\n",
    "* `H0`: CR в двух группах одинаковые.\n",
    "* `H1`: CR в двух группах различаются."
   ],
   "id": "cb875875830e98b4"
  },
  {
   "metadata": {
    "ExecuteTime": {
     "end_time": "2024-11-11T13:30:57.029650Z",
     "start_time": "2024-11-11T13:30:56.348088Z"
    }
   },
   "cell_type": "code",
   "source": "get_bootstrap(a_group.payment, b_group.payment, statistic = cr_func)",
   "id": "75fabb5246124ad",
   "outputs": [
    {
     "data": {
      "text/plain": [
       "  0%|          | 0/1000 [00:00<?, ?it/s]"
      ],
      "application/vnd.jupyter.widget-view+json": {
       "version_major": 2,
       "version_minor": 0,
       "model_id": "a0932f48beb748a6bfd4332fbed59402"
      }
     },
     "metadata": {},
     "output_type": "display_data"
    },
    {
     "data": {
      "text/plain": [
       "<Figure size 640x480 with 1 Axes>"
      ],
      "image/png": "[encoded data removed]"
     },
     "metadata": {},
     "output_type": "display_data"
    },
    {
     "data": {
      "text/plain": [
       "{'ci':               0\n",
       " 0.025 -0.011613\n",
       " 0.975  0.003381,\n",
       " 'p_value': 0.2393312529770073}"
      ]
     },
     "execution_count": 38,
     "metadata": {},
     "output_type": "execute_result"
    }
   ],
   "execution_count": 38
  },
  {
   "metadata": {},
   "cell_type": "markdown",
   "source": [
    "Доверительный интервал **попадает в 0**, недостаточно оснований отвергнуть нулевую гипотезу. Нельзя утверждать, что различия CR в двух группах есть.\n",
    "\n",
    "### ARPU\n",
    "Сформулируем нулевую и альтернативную гипотезы:\n",
    "\n",
    "* `H0`: ARPU в двух группах одинаковые.\n",
    "* `H1`: ARPU в двух группах различаются."
   ],
   "id": "40e043c0c1e12fdc"
  },
  {
   "metadata": {
    "ExecuteTime": {
     "end_time": "2024-11-11T13:31:24.312708Z",
     "start_time": "2024-11-11T13:31:23.981344Z"
    }
   },
   "cell_type": "code",
   "source": "get_bootstrap(a_group.rev, b_group.rev, statistic = arpu_func)",
   "id": "8e8a2c7ff41103d6",
   "outputs": [
    {
     "data": {
      "text/plain": [
       "  0%|          | 0/1000 [00:00<?, ?it/s]"
      ],
      "application/vnd.jupyter.widget-view+json": {
       "version_major": 2,
       "version_minor": 0,
       "model_id": "71af51937beb44efa0e9c467ebe5a2f3"
      }
     },
     "metadata": {},
     "output_type": "display_data"
    },
    {
     "data": {
      "text/plain": [
       "<Figure size 640x480 with 1 Axes>"
      ],
      "image/png": "[encoded data removed]"
     },
     "metadata": {},
     "output_type": "display_data"
    },
    {
     "data": {
      "text/plain": [
       "{'ci':                0\n",
       " 0.025   0.872851\n",
       " 0.975  20.659338,\n",
       " 'p_value': 0.03536296429609685}"
      ]
     },
     "execution_count": 39,
     "metadata": {},
     "output_type": "execute_result"
    }
   ],
   "execution_count": 39
  },
  {
   "metadata": {},
   "cell_type": "markdown",
   "source": [
    "Доверительный интервал **не попадает в 0**, отвергаем нулевую гипотезу. ARPU в двух группах различаются.\n",
    "\n",
    "### ARPPU\n",
    "Сформулируем нулевую и альтернативную гипотезы:\n",
    "\n",
    "* `H0`: ARPPU в двух группах одинаковые.\n",
    "* `H1`: ARPPU в двух группах различаются."
   ],
   "id": "a9e0524149c9ca13"
  },
  {
   "metadata": {
    "ExecuteTime": {
     "end_time": "2024-11-11T13:32:56.901547Z",
     "start_time": "2024-11-11T13:32:56.677621Z"
    }
   },
   "cell_type": "code",
   "source": "get_bootstrap(a_group.rev[a_group.rev > 0], b_group.rev[b_group.rev > 0], statistic = arppu_func)",
   "id": "ded8885f90ec41a3",
   "outputs": [
    {
     "data": {
      "text/plain": [
       "  0%|          | 0/1000 [00:00<?, ?it/s]"
      ],
      "application/vnd.jupyter.widget-view+json": {
       "version_major": 2,
       "version_minor": 0,
       "model_id": "c98d060ad0e7487da5dfbdab9544af33"
      }
     },
     "metadata": {},
     "output_type": "display_data"
    },
    {
     "data": {
      "text/plain": [
       "<Figure size 640x480 with 1 Axes>"
      ],
      "image/png": "[encoded data removed]"
     },
     "metadata": {},
     "output_type": "display_data"
    },
    {
     "data": {
      "text/plain": [
       "{'ci':                 0\n",
       " 0.025  191.132018\n",
       " 0.975  455.486554,\n",
       " 'p_value': 1.9459846474962635e-06}"
      ]
     },
     "execution_count": 40,
     "metadata": {},
     "output_type": "execute_result"
    }
   ],
   "execution_count": 40
  },
  {
   "metadata": {},
   "cell_type": "markdown",
   "source": [
    "Доверительный интервал **не попадает в 0**, отвергаем нулевую гипотезу. ARPPU в двух группах различаются.\n",
    "\n",
    "## Стоит ли запускать новую механику на всех пользователей?\n",
    "Да, новая механика оплаты даёт статистически значимый прирост в метриках ARPU и ARPPU, отрицательное изменение метрики CR не подтвердилось."
   ],
   "id": "595260d7e6eeb330"
  }
 ],
 "metadata": {
  "kernelspec": {
   "display_name": "Python [conda env:my_env] *",
   "language": "python",
   "name": "conda-env-my_env-py"
  },
  "language_info": {
   "codemirror_mode": {
    "name": "ipython",
    "version": 2
   },
   "file_extension": ".py",
   "mimetype": "text/x-python",
   "name": "python",
   "nbconvert_exporter": "python",
   "pygments_lexer": "ipython2",
   "version": "2.7.6"
  }
 },
 "nbformat": 4,
 "nbformat_minor": 5
}
